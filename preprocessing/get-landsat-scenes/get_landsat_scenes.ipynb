{
 "cells": [
  {
   "cell_type": "markdown",
   "id": "5d50cb0c",
   "metadata": {},
   "source": [
    "_Note: This is intended to be run as an EMR notebook_"
   ]
  },
  {
   "cell_type": "code",
   "execution_count": 1,
   "id": "72bd92fa",
   "metadata": {},
   "outputs": [],
   "source": [
    "import pandas as pd\n",
    "import boto3\n",
    "import time\n",
    "import dask.dataframe as dd\n",
    "from dask_yarn import YarnCluster\n",
    "from dask.distributed import Client"
   ]
  },
  {
   "cell_type": "code",
   "execution_count": 2,
   "id": "65fbfbeb",
   "metadata": {},
   "outputs": [
    {
     "name": "stderr",
     "output_type": "stream",
     "text": [
      "distributed.scheduler - INFO - Clear task state\n",
      "distributed.scheduler - INFO -   Scheduler at: tcp://172.31.10.195:44409\n",
      "distributed.scheduler - INFO -   dashboard at:                    :43499\n",
      "distributed.scheduler - INFO - Receive client connection: Client-165af528-c235-11eb-a92b-0283bac7ac51\n",
      "distributed.core - INFO - Starting established connection\n",
      "distributed.scheduler - INFO - Register worker <WorkerState 'tcp://172.31.5.202:39943', name: dask.worker_5, memory: 0, processing: 0>\n",
      "distributed.scheduler - INFO - Starting worker compute stream, tcp://172.31.5.202:39943\n",
      "distributed.core - INFO - Starting established connection\n",
      "distributed.scheduler - INFO - Register worker <WorkerState 'tcp://172.31.5.202:44887', name: dask.worker_2, memory: 0, processing: 0>\n",
      "distributed.scheduler - INFO - Starting worker compute stream, tcp://172.31.5.202:44887\n",
      "distributed.core - INFO - Starting established connection\n",
      "distributed.scheduler - INFO - Register worker <WorkerState 'tcp://172.31.15.167:39607', name: dask.worker_1, memory: 0, processing: 0>\n",
      "distributed.scheduler - INFO - Starting worker compute stream, tcp://172.31.15.167:39607\n",
      "distributed.core - INFO - Starting established connection\n",
      "distributed.scheduler - INFO - Register worker <WorkerState 'tcp://172.31.12.113:34693', name: dask.worker_6, memory: 0, processing: 0>\n",
      "distributed.scheduler - INFO - Starting worker compute stream, tcp://172.31.12.113:34693\n",
      "distributed.core - INFO - Starting established connection\n",
      "distributed.scheduler - INFO - Register worker <WorkerState 'tcp://172.31.15.167:46813', name: dask.worker_4, memory: 0, processing: 0>\n",
      "distributed.scheduler - INFO - Starting worker compute stream, tcp://172.31.15.167:46813\n",
      "distributed.core - INFO - Starting established connection\n",
      "distributed.scheduler - INFO - Register worker <WorkerState 'tcp://172.31.12.113:36113', name: dask.worker_3, memory: 0, processing: 0>\n",
      "distributed.scheduler - INFO - Starting worker compute stream, tcp://172.31.12.113:36113\n",
      "distributed.core - INFO - Starting established connection\n",
      "distributed.scheduler - INFO - Register worker <WorkerState 'tcp://172.31.12.113:38223', name: dask.worker_0, memory: 0, processing: 0>\n",
      "distributed.scheduler - INFO - Starting worker compute stream, tcp://172.31.12.113:38223\n",
      "distributed.core - INFO - Starting established connection\n",
      "distributed.scheduler - INFO - Register worker <WorkerState 'tcp://172.31.15.167:39419', name: dask.worker_7, memory: 0, processing: 0>\n",
      "distributed.scheduler - INFO - Starting worker compute stream, tcp://172.31.15.167:39419\n",
      "distributed.core - INFO - Starting established connection\n"
     ]
    }
   ],
   "source": [
    "# Create a cluster where each worker has 1 cores and 4 GiB of memory:\n",
    "cluster = YarnCluster(environment=\"/home/hadoop/environment.tar.gz\",\n",
    "                      worker_vcores = 1,\n",
    "                      worker_memory = \"4GiB\"\n",
    "                      )\n",
    "\n",
    "# Scale cluster out to 8 such workers:\n",
    "cluster.scale(8)\n",
    "\n",
    "# Connect to the cluster (before proceeding, you should wait for workers to be registered by the dask scheduler, as below):\n",
    "client = Client(cluster)"
   ]
  },
  {
   "cell_type": "code",
   "execution_count": 4,
   "id": "0d1ef607",
   "metadata": {},
   "outputs": [
    {
     "data": {
      "text/html": [
       "<table style=\"border: 2px solid white;\">\n",
       "<tr>\n",
       "<td style=\"vertical-align: top; border: 0px solid white\">\n",
       "<h3 style=\"text-align: left;\">Client</h3>\n",
       "<ul style=\"text-align: left; list-style: none; margin: 0; padding: 0;\">\n",
       "  <li><b>Scheduler: </b>tcp://172.31.10.195:44409</li>\n",
       "  <li><b>Dashboard: </b><a href='/proxy/43499/status' target='_blank'>/proxy/43499/status</a></li>\n",
       "</ul>\n",
       "</td>\n",
       "<td style=\"vertical-align: top; border: 0px solid white\">\n",
       "<h3 style=\"text-align: left;\">Cluster</h3>\n",
       "<ul style=\"text-align: left; list-style:none; margin: 0; padding: 0;\">\n",
       "  <li><b>Workers: </b>8</li>\n",
       "  <li><b>Cores: </b>8</li>\n",
       "  <li><b>Memory: </b>32.00 GiB</li>\n",
       "</ul>\n",
       "</td>\n",
       "</tr>\n",
       "</table>"
      ],
      "text/plain": [
       "<Client: 'tcp://172.31.10.195:44409' processes=8 threads=8, memory=32.00 GiB>"
      ]
     },
     "execution_count": 4,
     "metadata": {},
     "output_type": "execute_result"
    }
   ],
   "source": [
    "client"
   ]
  },
  {
   "cell_type": "code",
   "execution_count": 22,
   "id": "736d7e21",
   "metadata": {},
   "outputs": [],
   "source": [
    "# We can't read a gzipped file into task directly, so we'll read it into\n",
    "# pandas and then read it into a dask dataframe\n",
    "df = pd.read_csv('https://landsat-pds.s3.amazonaws.com/c1/L8/scene_list.gz')\n",
    "scene_list = dd.from_pandas(df, npartitions=8)\n",
    "\n",
    "# Getting really odd behavior when reading CSV directly into dask, so read it into\n",
    "# pandas first, then dask\n",
    "df = pd.read_csv('https://detecting-poverty.s3.amazonaws.com/lscale/point2pathrow.csv')\n",
    "pathrows = dd.from_pandas(df, npartitions=8)"
   ]
  },
  {
   "cell_type": "code",
   "execution_count": 23,
   "id": "d081c613",
   "metadata": {},
   "outputs": [],
   "source": [
    "# Add columns for scene date\n",
    "scene_list['year'] = scene_list['acquisitionDate'].str[:4].astype(int)\n",
    "scene_list['month'] = scene_list['acquisitionDate'].str[5:7].astype(int)\n",
    "scene_list['day'] = scene_list['acquisitionDate'].str[8:10].astype(int)\n",
    "scene_list['day_of_year'] = scene_list['month'] * scene_list['day']\n",
    "\n",
    "pathrows['year'] = 2016  # Pathrows file should have a year column\n",
    "pathrows['path'] = pathrows['path'].astype(int)\n",
    "pathrows['row'] = pathrows['row'].astype(int)\n",
    "pathrows['lonlat'] = pathrows['# lon'] + pathrows['lat']"
   ]
  },
  {
   "cell_type": "code",
   "execution_count": 24,
   "id": "73db5d91",
   "metadata": {},
   "outputs": [
    {
     "name": "stderr",
     "output_type": "stream",
     "text": [
      "distributed.core - INFO - Event loop was unresponsive in Scheduler for 3.84s.  This is often caused by long-running GIL-holding functions or moving large chunks of data. This can cause timeouts and instability.\n"
     ]
    }
   ],
   "source": [
    "# We only want scenes corresponding to a certain year\n",
    "pathrows_mg = pathrows.merge(scene_list, on=['path', 'row', 'year'])\n",
    "\n",
    "# Get min day of year for each pathrow. Can't get this to work in dask, so compute and\n",
    "# convert back to dask (returns <800 rows, so not blowing up memory)\n",
    "min_day = pd.DataFrame(pathrows_mg.groupby(['path', 'row'])['day_of_year'].min().compute()).reset_index()\n",
    "min_day_dd = dd.from_pandas(min_day, npartitions=8)"
   ]
  },
  {
   "cell_type": "code",
   "execution_count": 25,
   "id": "f0a08edb",
   "metadata": {},
   "outputs": [],
   "source": [
    "# Get only those scenes corresponding to min day of year for which we have scene\n",
    "pathrows_filt = pathrows_mg.merge(min_day_dd, on=['path', 'row', 'day_of_year'])\n",
    "\n",
    "# Drop duplicate rows (e.g., if there are multiple scenes on same day)\n",
    "pathrows_filt = pathrows_filt.drop_duplicates(subset='lonlat', ignore_index=True)"
   ]
  },
  {
   "cell_type": "code",
   "execution_count": 26,
   "id": "1f94bf9b",
   "metadata": {},
   "outputs": [
    {
     "name": "stderr",
     "output_type": "stream",
     "text": [
      "/home/hadoop/miniconda/lib/python3.7/site-packages/dask/dataframe/accessor.py:49: FutureWarning: The default value of regex will change from True to False in a future version.\n",
      "  out = getattr(getattr(obj, accessor, obj), attr)(*args, **kwargs)\n"
     ]
    }
   ],
   "source": [
    "# Add columns with links to bands\n",
    "pathrows_filt['link_prefix'] = pathrows_filt['download_url'].str.replace('index.html', '') \\\n",
    "                                + pathrows_filt['productId'] + '_'\n",
    "pathrows_filt['B2_link'] = pathrows_filt['link_prefix'] + 'B2.TIF'\n",
    "pathrows_filt['B3_link'] = pathrows_filt['link_prefix'] + 'B3.TIF'\n",
    "pathrows_filt['B4_link'] = pathrows_filt['link_prefix'] + 'B4.TIF'\n",
    "\n",
    "# Keep only columns we need\n",
    "pathrows_filt = pathrows_filt[['# lon', 'lat', 'path', 'row',\n",
    "                               'B2_link', 'B3_link', 'B4_link']]"
   ]
  },
  {
   "cell_type": "code",
   "execution_count": 27,
   "id": "efab118d",
   "metadata": {},
   "outputs": [
    {
     "name": "stderr",
     "output_type": "stream",
     "text": [
      "distributed.core - INFO - Event loop was unresponsive in Scheduler for 3.67s.  This is often caused by long-running GIL-holding functions or moving large chunks of data. This can cause timeouts and instability.\n"
     ]
    }
   ],
   "source": [
    "pathrows_export = pathrows_filt.compute()"
   ]
  },
  {
   "cell_type": "code",
   "execution_count": 28,
   "id": "557fc10b",
   "metadata": {},
   "outputs": [
    {
     "data": {
      "text/html": [
       "<div>\n",
       "<style scoped>\n",
       "    .dataframe tbody tr th:only-of-type {\n",
       "        vertical-align: middle;\n",
       "    }\n",
       "\n",
       "    .dataframe tbody tr th {\n",
       "        vertical-align: top;\n",
       "    }\n",
       "\n",
       "    .dataframe thead th {\n",
       "        text-align: right;\n",
       "    }\n",
       "</style>\n",
       "<table border=\"1\" class=\"dataframe\">\n",
       "  <thead>\n",
       "    <tr style=\"text-align: right;\">\n",
       "      <th></th>\n",
       "      <th># lon</th>\n",
       "      <th>lat</th>\n",
       "      <th>path</th>\n",
       "      <th>row</th>\n",
       "      <th>B2_link</th>\n",
       "      <th>B3_link</th>\n",
       "      <th>B4_link</th>\n",
       "    </tr>\n",
       "  </thead>\n",
       "  <tbody>\n",
       "    <tr>\n",
       "      <th>0</th>\n",
       "      <td>6.224950</td>\n",
       "      <td>11.044828</td>\n",
       "      <td>190</td>\n",
       "      <td>52</td>\n",
       "      <td>https://s3-us-west-2.amazonaws.com/landsat-pds...</td>\n",
       "      <td>https://s3-us-west-2.amazonaws.com/landsat-pds...</td>\n",
       "      <td>https://s3-us-west-2.amazonaws.com/landsat-pds...</td>\n",
       "    </tr>\n",
       "    <tr>\n",
       "      <th>1</th>\n",
       "      <td>5.104116</td>\n",
       "      <td>11.401660</td>\n",
       "      <td>190</td>\n",
       "      <td>52</td>\n",
       "      <td>https://s3-us-west-2.amazonaws.com/landsat-pds...</td>\n",
       "      <td>https://s3-us-west-2.amazonaws.com/landsat-pds...</td>\n",
       "      <td>https://s3-us-west-2.amazonaws.com/landsat-pds...</td>\n",
       "    </tr>\n",
       "    <tr>\n",
       "      <th>2</th>\n",
       "      <td>5.562867</td>\n",
       "      <td>11.632577</td>\n",
       "      <td>190</td>\n",
       "      <td>52</td>\n",
       "      <td>https://s3-us-west-2.amazonaws.com/landsat-pds...</td>\n",
       "      <td>https://s3-us-west-2.amazonaws.com/landsat-pds...</td>\n",
       "      <td>https://s3-us-west-2.amazonaws.com/landsat-pds...</td>\n",
       "    </tr>\n",
       "    <tr>\n",
       "      <th>3</th>\n",
       "      <td>6.513935</td>\n",
       "      <td>11.535640</td>\n",
       "      <td>190</td>\n",
       "      <td>52</td>\n",
       "      <td>https://s3-us-west-2.amazonaws.com/landsat-pds...</td>\n",
       "      <td>https://s3-us-west-2.amazonaws.com/landsat-pds...</td>\n",
       "      <td>https://s3-us-west-2.amazonaws.com/landsat-pds...</td>\n",
       "    </tr>\n",
       "    <tr>\n",
       "      <th>4</th>\n",
       "      <td>5.144629</td>\n",
       "      <td>10.999051</td>\n",
       "      <td>190</td>\n",
       "      <td>52</td>\n",
       "      <td>https://s3-us-west-2.amazonaws.com/landsat-pds...</td>\n",
       "      <td>https://s3-us-west-2.amazonaws.com/landsat-pds...</td>\n",
       "      <td>https://s3-us-west-2.amazonaws.com/landsat-pds...</td>\n",
       "    </tr>\n",
       "  </tbody>\n",
       "</table>\n",
       "</div>"
      ],
      "text/plain": [
       "      # lon        lat  path  row  \\\n",
       "0  6.224950  11.044828   190   52   \n",
       "1  5.104116  11.401660   190   52   \n",
       "2  5.562867  11.632577   190   52   \n",
       "3  6.513935  11.535640   190   52   \n",
       "4  5.144629  10.999051   190   52   \n",
       "\n",
       "                                             B2_link  \\\n",
       "0  https://s3-us-west-2.amazonaws.com/landsat-pds...   \n",
       "1  https://s3-us-west-2.amazonaws.com/landsat-pds...   \n",
       "2  https://s3-us-west-2.amazonaws.com/landsat-pds...   \n",
       "3  https://s3-us-west-2.amazonaws.com/landsat-pds...   \n",
       "4  https://s3-us-west-2.amazonaws.com/landsat-pds...   \n",
       "\n",
       "                                             B3_link  \\\n",
       "0  https://s3-us-west-2.amazonaws.com/landsat-pds...   \n",
       "1  https://s3-us-west-2.amazonaws.com/landsat-pds...   \n",
       "2  https://s3-us-west-2.amazonaws.com/landsat-pds...   \n",
       "3  https://s3-us-west-2.amazonaws.com/landsat-pds...   \n",
       "4  https://s3-us-west-2.amazonaws.com/landsat-pds...   \n",
       "\n",
       "                                             B4_link  \n",
       "0  https://s3-us-west-2.amazonaws.com/landsat-pds...  \n",
       "1  https://s3-us-west-2.amazonaws.com/landsat-pds...  \n",
       "2  https://s3-us-west-2.amazonaws.com/landsat-pds...  \n",
       "3  https://s3-us-west-2.amazonaws.com/landsat-pds...  \n",
       "4  https://s3-us-west-2.amazonaws.com/landsat-pds...  "
      ]
     },
     "execution_count": 28,
     "metadata": {},
     "output_type": "execute_result"
    }
   ],
   "source": [
    "pathrows_export.head()"
   ]
  },
  {
   "cell_type": "code",
   "execution_count": 29,
   "id": "8a28f546",
   "metadata": {},
   "outputs": [
    {
     "data": {
      "text/plain": [
       "(999827, 7)"
      ]
     },
     "execution_count": 29,
     "metadata": {},
     "output_type": "execute_result"
    }
   ],
   "source": [
    "pathrows_export.shape"
   ]
  },
  {
   "cell_type": "code",
   "execution_count": 30,
   "id": "cf68415e",
   "metadata": {},
   "outputs": [
    {
     "data": {
      "text/plain": [
       "'https://s3-us-west-2.amazonaws.com/landsat-pds/c1/L8/190/052/LC08_L1TP_190052_20160102_20170404_01_T1/LC08_L1TP_190052_20160102_20170404_01_T1_B4.TIF'"
      ]
     },
     "execution_count": 30,
     "metadata": {},
     "output_type": "execute_result"
    }
   ],
   "source": [
    "pathrows_export.iloc[0, -1]"
   ]
  },
  {
   "cell_type": "code",
   "execution_count": 44,
   "id": "6445cbf6",
   "metadata": {},
   "outputs": [],
   "source": [
    "# Export to CSV\n",
    "# df.to_csv('my_file.gz', compression='gzip')\n",
    "pathrows_export.to_csv('pathrow_scenelinks.zip', index=False, compression='zip')"
   ]
  }
 ],
 "metadata": {
  "kernelspec": {
   "display_name": "Python 3",
   "language": "python",
   "name": "python3"
  },
  "language_info": {
   "codemirror_mode": {
    "name": "ipython",
    "version": 3
   },
   "file_extension": ".py",
   "mimetype": "text/x-python",
   "name": "python",
   "nbconvert_exporter": "python",
   "pygments_lexer": "ipython3",
   "version": "3.7.7"
  }
 },
 "nbformat": 4,
 "nbformat_minor": 5
}
