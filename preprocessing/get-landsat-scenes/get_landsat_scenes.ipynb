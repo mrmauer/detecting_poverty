{
 "cells": [
  {
   "cell_type": "code",
   "execution_count": 1,
   "id": "72bd92fa",
   "metadata": {},
   "outputs": [],
   "source": [
    "import io\n",
    "import ogr\n",
    "import shapely.wkt\n",
    "import shapely.geometry\n",
    "import urllib.request\n",
    "import zipfile\n",
    "import time\n",
    "import boto3"
   ]
  },
  {
   "cell_type": "code",
   "execution_count": 2,
   "id": "b3da609a",
   "metadata": {},
   "outputs": [],
   "source": [
    "BUCKET = 'landsat-pds'"
   ]
  },
  {
   "cell_type": "code",
   "execution_count": 3,
   "id": "b4d7e5dd",
   "metadata": {},
   "outputs": [],
   "source": [
    "lon = -123  # Vancouver lon deg E\n",
    "lat = 49   # Vancouver lat deg N\n",
    "\n",
    "test = []\n",
    "test.append(( -62.91692, 46.10125))\n",
    "test.append((9.55137, 2.94979))\n",
    "test.append((86.14700, 31.66302))\n",
    "test.append((9.28831, 12.13683))"
   ]
  },
  {
   "cell_type": "code",
   "execution_count": 4,
   "id": "58491a53",
   "metadata": {},
   "outputs": [],
   "source": [
    "# source: https://a301_web.eoas.ubc.ca/week9/landsat_wrs.html\n",
    "def checkPoint(feature, point, mode):\n",
    "    '''\n",
    "    Checks to see whether a lat/lon point falls within a\n",
    "    particular WRS sector (feature)\n",
    "    '''\n",
    "    #Get geometry from feature\n",
    "    geom = feature.GetGeometryRef() \n",
    "    \n",
    "    #Import geometry into shapely to easily work with our point\n",
    "    shape = shapely.wkt.loads(geom.ExportToWkt()) \n",
    "    \n",
    "    if point.within(shape) and feature['MODE'] == mode:\n",
    "        return True\n",
    "    return False"
   ]
  },
  {
   "cell_type": "code",
   "execution_count": 5,
   "id": "70776c89",
   "metadata": {},
   "outputs": [],
   "source": [
    "def download_landsat_paths_and_rows():\n",
    "    url = \"https://prd-wret.s3-us-west-2.amazonaws.com/assets/palladium/production/s3fs-public/atoms/files/WRS2_descending_0.zip\"\n",
    "    r = urllib.request.urlopen(url)\n",
    "    zip_file = zipfile.ZipFile(io.BytesIO(r.read()))\n",
    "    zip_file.extractall(\"landsat-path-row\")\n",
    "    zip_file.close()"
   ]
  },
  {
   "cell_type": "code",
   "execution_count": 6,
   "id": "ee063ba4",
   "metadata": {},
   "outputs": [],
   "source": [
    "def get_paths_and_rows(coord_list, shapefile='landsat-path-row/WRS2_descending.shp',\n",
    "                       mode='D', download_file=False):\n",
    "    '''\n",
    "    Get path, row for every coordinate in a list\n",
    "    \n",
    "    Inputs:\n",
    "        coord_list: list of tuples (float, float). Expects (lon, lat) coordinates.\n",
    "        shapefile: string, location of shapefile with landsat paths and rows\n",
    "        mode: string, type of image to look for. Default is 'D', for daytime image\n",
    "        download_file: whether to download a file with the landsat paths and rows\n",
    "        \n",
    "    Output:\n",
    "        Tuple: Dictionary mapping each pair of coordinates to a (path, row) tuple,\n",
    "            and set of all (path, row) tuples\n",
    "    '''\n",
    "    if download_file:\n",
    "        download_landsat_paths_and_rows()\n",
    "    \n",
    "    wrs = ogr.Open(shapefile)\n",
    "    layer = wrs.GetLayer(0)\n",
    "\n",
    "    # locations we've visited already\n",
    "    feats_seen = []\n",
    "    path_rows = set()\n",
    "    coord_map = {}\n",
    "    \n",
    "    for lon, lat in coord_list:\n",
    "        point = shapely.geometry.Point(lon, lat)\n",
    "        found = False\n",
    "        \n",
    "        # first look through all the locations we've found already\n",
    "        for feat in feats_seen:\n",
    "            if checkPoint(feat, point, mode):\n",
    "                found = True\n",
    "                feature = feat\n",
    "        \n",
    "        # otherwise look through all the features in the world\n",
    "        if not found:\n",
    "            i = 0\n",
    "            while not checkPoint(layer.GetFeature(i), point, mode):\n",
    "                i += 1\n",
    "            feature = layer.GetFeature(i)\n",
    "            feats_seen.append(feature)\n",
    "            \n",
    "        path_row = (feature['PATH'], feature['ROW'])\n",
    "        coord_map[(lon, lat)] = path_row\n",
    "        path_rows.add(path_row)\n",
    "        \n",
    "    return coord_map, path_rows"
   ]
  },
  {
   "cell_type": "code",
   "execution_count": 15,
   "id": "1f50fa45",
   "metadata": {},
   "outputs": [],
   "source": [
    "# source: https://stackoverflow.com/questions/44238525/how-to-iterate-over-files-in-an-s3-bucket\n",
    "def iterate_bucket_items(bucket, prefix):\n",
    "    \"\"\"\n",
    "    Generator that iterates over all objects in a given s3 bucket\n",
    "\n",
    "    See http://boto3.readthedocs.io/en/latest/reference/services/s3.html#S3.Client.list_objects_v2 \n",
    "    for return data format\n",
    "    :param bucket: name of s3 bucket\n",
    "    :return: dict of metadata for an object\n",
    "    \"\"\"\n",
    "    client = boto3.client('s3')\n",
    "    paginator = client.get_paginator('list_objects_v2')\n",
    "    page_iterator = paginator.paginate(Bucket=bucket, Prefix=prefix)\n",
    "\n",
    "    for page in page_iterator:\n",
    "        if page['KeyCount'] > 0:\n",
    "            for item in page['Contents']:\n",
    "                yield item"
   ]
  },
  {
   "cell_type": "code",
   "execution_count": null,
   "id": "b2ea5524",
   "metadata": {},
   "outputs": [],
   "source": []
  },
  {
   "cell_type": "code",
   "execution_count": 17,
   "id": "c385fb2d",
   "metadata": {},
   "outputs": [
    {
     "ename": "ClientError",
     "evalue": "An error occurred (AccessDenied) when calling the ListObjectsV2 operation: Access Denied",
     "output_type": "error",
     "traceback": [
      "\u001b[0;31m---------------------------------------------------------------------------\u001b[0m",
      "\u001b[0;31mClientError\u001b[0m                               Traceback (most recent call last)",
      "\u001b[0;32m<ipython-input-17-ba720c2319ca>\u001b[0m in \u001b[0;36m<module>\u001b[0;34m\u001b[0m\n\u001b[1;32m      1\u001b[0m \u001b[0mt\u001b[0m \u001b[0;34m=\u001b[0m \u001b[0;34m's3://landsat-pds/c1/L8/002/003'\u001b[0m\u001b[0;34m\u001b[0m\u001b[0;34m\u001b[0m\u001b[0m\n\u001b[0;32m----> 2\u001b[0;31m for i in iterate_bucket_items(bucket=BUCKET,\n\u001b[0m\u001b[1;32m      3\u001b[0m                              prefix='s3://landsat-pds/c1/L8/002/003/'):\n\u001b[1;32m      4\u001b[0m     \u001b[0mprint\u001b[0m\u001b[0;34m(\u001b[0m\u001b[0mi\u001b[0m\u001b[0;34m)\u001b[0m\u001b[0;34m\u001b[0m\u001b[0;34m\u001b[0m\u001b[0m\n",
      "\u001b[0;32m<ipython-input-15-c758c95da3e1>\u001b[0m in \u001b[0;36miterate_bucket_items\u001b[0;34m(bucket, prefix)\u001b[0m\n\u001b[1;32m     13\u001b[0m     \u001b[0mpage_iterator\u001b[0m \u001b[0;34m=\u001b[0m \u001b[0mpaginator\u001b[0m\u001b[0;34m.\u001b[0m\u001b[0mpaginate\u001b[0m\u001b[0;34m(\u001b[0m\u001b[0mBucket\u001b[0m\u001b[0;34m=\u001b[0m\u001b[0mbucket\u001b[0m\u001b[0;34m,\u001b[0m \u001b[0mPrefix\u001b[0m\u001b[0;34m=\u001b[0m\u001b[0mprefix\u001b[0m\u001b[0;34m)\u001b[0m\u001b[0;34m\u001b[0m\u001b[0;34m\u001b[0m\u001b[0m\n\u001b[1;32m     14\u001b[0m \u001b[0;34m\u001b[0m\u001b[0m\n\u001b[0;32m---> 15\u001b[0;31m     \u001b[0;32mfor\u001b[0m \u001b[0mpage\u001b[0m \u001b[0;32min\u001b[0m \u001b[0mpage_iterator\u001b[0m\u001b[0;34m:\u001b[0m\u001b[0;34m\u001b[0m\u001b[0;34m\u001b[0m\u001b[0m\n\u001b[0m\u001b[1;32m     16\u001b[0m         \u001b[0;32mif\u001b[0m \u001b[0mpage\u001b[0m\u001b[0;34m[\u001b[0m\u001b[0;34m'KeyCount'\u001b[0m\u001b[0;34m]\u001b[0m \u001b[0;34m>\u001b[0m \u001b[0;36m0\u001b[0m\u001b[0;34m:\u001b[0m\u001b[0;34m\u001b[0m\u001b[0;34m\u001b[0m\u001b[0m\n\u001b[1;32m     17\u001b[0m             \u001b[0;32mfor\u001b[0m \u001b[0mitem\u001b[0m \u001b[0;32min\u001b[0m \u001b[0mpage\u001b[0m\u001b[0;34m[\u001b[0m\u001b[0;34m'Contents'\u001b[0m\u001b[0;34m]\u001b[0m\u001b[0;34m:\u001b[0m\u001b[0;34m\u001b[0m\u001b[0;34m\u001b[0m\u001b[0m\n",
      "\u001b[0;32m~/.local/lib/python3.8/site-packages/botocore/paginate.py\u001b[0m in \u001b[0;36m__iter__\u001b[0;34m(self)\u001b[0m\n\u001b[1;32m    253\u001b[0m         \u001b[0mself\u001b[0m\u001b[0;34m.\u001b[0m\u001b[0m_inject_starting_params\u001b[0m\u001b[0;34m(\u001b[0m\u001b[0mcurrent_kwargs\u001b[0m\u001b[0;34m)\u001b[0m\u001b[0;34m\u001b[0m\u001b[0;34m\u001b[0m\u001b[0m\n\u001b[1;32m    254\u001b[0m         \u001b[0;32mwhile\u001b[0m \u001b[0;32mTrue\u001b[0m\u001b[0;34m:\u001b[0m\u001b[0;34m\u001b[0m\u001b[0;34m\u001b[0m\u001b[0m\n\u001b[0;32m--> 255\u001b[0;31m             \u001b[0mresponse\u001b[0m \u001b[0;34m=\u001b[0m \u001b[0mself\u001b[0m\u001b[0;34m.\u001b[0m\u001b[0m_make_request\u001b[0m\u001b[0;34m(\u001b[0m\u001b[0mcurrent_kwargs\u001b[0m\u001b[0;34m)\u001b[0m\u001b[0;34m\u001b[0m\u001b[0;34m\u001b[0m\u001b[0m\n\u001b[0m\u001b[1;32m    256\u001b[0m             \u001b[0mparsed\u001b[0m \u001b[0;34m=\u001b[0m \u001b[0mself\u001b[0m\u001b[0;34m.\u001b[0m\u001b[0m_extract_parsed_response\u001b[0m\u001b[0;34m(\u001b[0m\u001b[0mresponse\u001b[0m\u001b[0;34m)\u001b[0m\u001b[0;34m\u001b[0m\u001b[0;34m\u001b[0m\u001b[0m\n\u001b[1;32m    257\u001b[0m             \u001b[0;32mif\u001b[0m \u001b[0mfirst_request\u001b[0m\u001b[0;34m:\u001b[0m\u001b[0;34m\u001b[0m\u001b[0;34m\u001b[0m\u001b[0m\n",
      "\u001b[0;32m~/.local/lib/python3.8/site-packages/botocore/paginate.py\u001b[0m in \u001b[0;36m_make_request\u001b[0;34m(self, current_kwargs)\u001b[0m\n\u001b[1;32m    330\u001b[0m \u001b[0;34m\u001b[0m\u001b[0m\n\u001b[1;32m    331\u001b[0m     \u001b[0;32mdef\u001b[0m \u001b[0m_make_request\u001b[0m\u001b[0;34m(\u001b[0m\u001b[0mself\u001b[0m\u001b[0;34m,\u001b[0m \u001b[0mcurrent_kwargs\u001b[0m\u001b[0;34m)\u001b[0m\u001b[0;34m:\u001b[0m\u001b[0;34m\u001b[0m\u001b[0;34m\u001b[0m\u001b[0m\n\u001b[0;32m--> 332\u001b[0;31m         \u001b[0;32mreturn\u001b[0m \u001b[0mself\u001b[0m\u001b[0;34m.\u001b[0m\u001b[0m_method\u001b[0m\u001b[0;34m(\u001b[0m\u001b[0;34m**\u001b[0m\u001b[0mcurrent_kwargs\u001b[0m\u001b[0;34m)\u001b[0m\u001b[0;34m\u001b[0m\u001b[0;34m\u001b[0m\u001b[0m\n\u001b[0m\u001b[1;32m    333\u001b[0m \u001b[0;34m\u001b[0m\u001b[0m\n\u001b[1;32m    334\u001b[0m     \u001b[0;32mdef\u001b[0m \u001b[0m_extract_parsed_response\u001b[0m\u001b[0;34m(\u001b[0m\u001b[0mself\u001b[0m\u001b[0;34m,\u001b[0m \u001b[0mresponse\u001b[0m\u001b[0;34m)\u001b[0m\u001b[0;34m:\u001b[0m\u001b[0;34m\u001b[0m\u001b[0;34m\u001b[0m\u001b[0m\n",
      "\u001b[0;32m~/.local/lib/python3.8/site-packages/botocore/client.py\u001b[0m in \u001b[0;36m_api_call\u001b[0;34m(self, *args, **kwargs)\u001b[0m\n\u001b[1;32m    355\u001b[0m                     \"%s() only accepts keyword arguments.\" % py_operation_name)\n\u001b[1;32m    356\u001b[0m             \u001b[0;31m# The \"self\" in this scope is referring to the BaseClient.\u001b[0m\u001b[0;34m\u001b[0m\u001b[0;34m\u001b[0m\u001b[0;34m\u001b[0m\u001b[0m\n\u001b[0;32m--> 357\u001b[0;31m             \u001b[0;32mreturn\u001b[0m \u001b[0mself\u001b[0m\u001b[0;34m.\u001b[0m\u001b[0m_make_api_call\u001b[0m\u001b[0;34m(\u001b[0m\u001b[0moperation_name\u001b[0m\u001b[0;34m,\u001b[0m \u001b[0mkwargs\u001b[0m\u001b[0;34m)\u001b[0m\u001b[0;34m\u001b[0m\u001b[0;34m\u001b[0m\u001b[0m\n\u001b[0m\u001b[1;32m    358\u001b[0m \u001b[0;34m\u001b[0m\u001b[0m\n\u001b[1;32m    359\u001b[0m         \u001b[0m_api_call\u001b[0m\u001b[0;34m.\u001b[0m\u001b[0m__name__\u001b[0m \u001b[0;34m=\u001b[0m \u001b[0mstr\u001b[0m\u001b[0;34m(\u001b[0m\u001b[0mpy_operation_name\u001b[0m\u001b[0;34m)\u001b[0m\u001b[0;34m\u001b[0m\u001b[0;34m\u001b[0m\u001b[0m\n",
      "\u001b[0;32m~/.local/lib/python3.8/site-packages/botocore/client.py\u001b[0m in \u001b[0;36m_make_api_call\u001b[0;34m(self, operation_name, api_params)\u001b[0m\n\u001b[1;32m    674\u001b[0m             \u001b[0merror_code\u001b[0m \u001b[0;34m=\u001b[0m \u001b[0mparsed_response\u001b[0m\u001b[0;34m.\u001b[0m\u001b[0mget\u001b[0m\u001b[0;34m(\u001b[0m\u001b[0;34m\"Error\"\u001b[0m\u001b[0;34m,\u001b[0m \u001b[0;34m{\u001b[0m\u001b[0;34m}\u001b[0m\u001b[0;34m)\u001b[0m\u001b[0;34m.\u001b[0m\u001b[0mget\u001b[0m\u001b[0;34m(\u001b[0m\u001b[0;34m\"Code\"\u001b[0m\u001b[0;34m)\u001b[0m\u001b[0;34m\u001b[0m\u001b[0;34m\u001b[0m\u001b[0m\n\u001b[1;32m    675\u001b[0m             \u001b[0merror_class\u001b[0m \u001b[0;34m=\u001b[0m \u001b[0mself\u001b[0m\u001b[0;34m.\u001b[0m\u001b[0mexceptions\u001b[0m\u001b[0;34m.\u001b[0m\u001b[0mfrom_code\u001b[0m\u001b[0;34m(\u001b[0m\u001b[0merror_code\u001b[0m\u001b[0;34m)\u001b[0m\u001b[0;34m\u001b[0m\u001b[0;34m\u001b[0m\u001b[0m\n\u001b[0;32m--> 676\u001b[0;31m             \u001b[0;32mraise\u001b[0m \u001b[0merror_class\u001b[0m\u001b[0;34m(\u001b[0m\u001b[0mparsed_response\u001b[0m\u001b[0;34m,\u001b[0m \u001b[0moperation_name\u001b[0m\u001b[0;34m)\u001b[0m\u001b[0;34m\u001b[0m\u001b[0;34m\u001b[0m\u001b[0m\n\u001b[0m\u001b[1;32m    677\u001b[0m         \u001b[0;32melse\u001b[0m\u001b[0;34m:\u001b[0m\u001b[0;34m\u001b[0m\u001b[0;34m\u001b[0m\u001b[0m\n\u001b[1;32m    678\u001b[0m             \u001b[0;32mreturn\u001b[0m \u001b[0mparsed_response\u001b[0m\u001b[0;34m\u001b[0m\u001b[0;34m\u001b[0m\u001b[0m\n",
      "\u001b[0;31mClientError\u001b[0m: An error occurred (AccessDenied) when calling the ListObjectsV2 operation: Access Denied"
     ]
    }
   ],
   "source": [
    "t = 's3://landsat-pds/c1/L8/002/003'\n",
    "for i in iterate_bucket_items(bucket=BUCKET,\n",
    "                              prefix='s3://landsat-pds/c1/L8/002/003/'):\n",
    "    print(i)"
   ]
  },
  {
   "cell_type": "code",
   "execution_count": null,
   "id": "11be21ef",
   "metadata": {},
   "outputs": [],
   "source": [
    "def get_landsat_scene_strings(paths_rows_list):\n",
    "    '''\n",
    "    Construct list of strings corresponding to Landsat scenes\n",
    "    to pull from S3 bucket\n",
    "    '''\n",
    "    base = 's3://landsat-pds/c1/L8/'\n",
    "    \n",
    "    scenes = []\n",
    "    for path, row in paths_rows_list:\n",
    "        # Pad path and row with zeroes as needed so they are each\n",
    "        # 3 digits\n",
    "        str_path = str(path).zfill(3)\n",
    "        str_row = str(row).zfill(3)\n",
    "        \n",
    "        # s3 bucket with all Landsat scenes for given path and row\n",
    "        scene_dir = base + str_path + '/' + str_row + '/'"
   ]
  },
  {
   "cell_type": "code",
   "execution_count": 7,
   "id": "6cab33f0",
   "metadata": {},
   "outputs": [],
   "source": [
    "coord_map, paths_rows = get_paths_and_rows(test)"
   ]
  },
  {
   "cell_type": "code",
   "execution_count": 8,
   "id": "49f2e0d1",
   "metadata": {},
   "outputs": [
    {
     "data": {
      "text/plain": [
       "{(7, 28), (141, 38), (186, 58), (188, 52)}"
      ]
     },
     "execution_count": 8,
     "metadata": {},
     "output_type": "execute_result"
    }
   ],
   "source": [
    "paths_rows"
   ]
  },
  {
   "cell_type": "code",
   "execution_count": 9,
   "id": "669d60fb",
   "metadata": {},
   "outputs": [
    {
     "data": {
      "text/plain": [
       "{(-62.91692, 46.10125): (7, 28),\n",
       " (9.55137, 2.94979): (186, 58),\n",
       " (86.147, 31.66302): (141, 38),\n",
       " (9.28831, 12.13683): (188, 52)}"
      ]
     },
     "execution_count": 9,
     "metadata": {},
     "output_type": "execute_result"
    }
   ],
   "source": [
    "coord_map"
   ]
  }
 ],
 "metadata": {
  "kernelspec": {
   "display_name": "Python 3",
   "language": "python",
   "name": "python3"
  },
  "language_info": {
   "codemirror_mode": {
    "name": "ipython",
    "version": 3
   },
   "file_extension": ".py",
   "mimetype": "text/x-python",
   "name": "python",
   "nbconvert_exporter": "python",
   "pygments_lexer": "ipython3",
   "version": "3.8.2"
  }
 },
 "nbformat": 4,
 "nbformat_minor": 5
}
